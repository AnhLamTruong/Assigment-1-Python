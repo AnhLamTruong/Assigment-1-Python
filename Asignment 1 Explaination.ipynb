{
 "cells": [
  {
   "cell_type": "markdown",
   "metadata": {},
   "source": [
    "# TWO SUM\n",
    "I took advantage of Python dictionaries in order to implement a solution with time complexity O(n)."
   ]
  },
  {
   "cell_type": "code",
   "execution_count": 2,
   "metadata": {},
   "outputs": [
    {
     "name": "stdout",
     "output_type": "stream",
     "text": [
      "[0, 1]\n",
      "[1, 2]\n",
      "[0, 1]\n"
     ]
    }
   ],
   "source": [
    "from typing import List\n",
    "## Testing data\n",
    "textNum1=[2,7,11,15]\n",
    "textNum2=[3,2,4]\n",
    "textNum3=[3,3]\n",
    "\n",
    "target1=9\n",
    "target2=6\n",
    "target3=6\n",
    "\n",
    "## Function to solve the problems\n",
    "def twoSum(nums:List[int],target:int)->List[int]:\n",
    "  #Making a dictionary to store data, so we just need to loop over the array 1 times\n",
    "  values={} \n",
    "  #Similar to for each function\n",
    "  for i,value in enumerate(nums):\n",
    "    #if there is a value in nums Array that similar to some value, return that, or storing that if need \n",
    "    if target-value in values:\n",
    "      return [values[target-value],i]\n",
    "    else:\n",
    "      #Storing the value and the index in the dictionary\n",
    "      values[value]=i\n",
    "\n",
    "## Driver Code \n",
    "print(twoSum(textNum1,target1))\n",
    "print(twoSum(textNum2,target2))\n",
    "print(twoSum(textNum3,target3))"
   ]
  },
  {
   "cell_type": "markdown",
   "metadata": {},
   "source": [
    "# Find First and Last Position of Element in Sorted Array. \n",
    "I used binary search method for this assignment because binary search implement the time complexity O(log(n)). Because the input array is an sort array, I used leftBias to get the first and last target posision in the file."
   ]
  },
  {
   "cell_type": "code",
   "execution_count": 5,
   "metadata": {},
   "outputs": [
    {
     "name": "stdout",
     "output_type": "stream",
     "text": [
      "[3, 4]\n",
      "[3, 3]\n",
      "[-1, -1]\n",
      "Result\n"
     ]
    }
   ],
   "source": [
    "from typing import List\n",
    "\n",
    "\n",
    "## Testing data\n",
    "textNum1=[5,7,7,8,8,10]\n",
    "textNum2=[5,7,7,8,10]\n",
    "textNum3=[]\n",
    "\n",
    "target1=8\n",
    "target2=8\n",
    "target3=0\n",
    "\n",
    "## Function to solve the problems\n",
    "def binSearch(array:List[int],target:int,length:int,leftBias: bool)->int:\n",
    "  low = 0\n",
    "  high = length - 1\n",
    "  rec=-1\n",
    "  while (low <= high):\n",
    "    #Binary Search\n",
    "    mid=(low+high)//2\n",
    "    #If the target is in the left size ([4]...19)\n",
    "    if(array[mid]>target):\n",
    "      # Move the high to mid\n",
    "      high=mid-1\n",
    "      #If the target is in the left size (19....[23])\n",
    "    elif(array[mid]<target):\n",
    "      # Move the low to mid\n",
    "      low=mid+1\n",
    "    else:\n",
    "      #Updating the reccent, and move left because we want to find 1st occur move right becasue we want to find the last occour\n",
    "      rec=mid\n",
    "      if leftBias:\n",
    "        high=mid-1\n",
    "      else:\n",
    "        low=mid+1\n",
    "  return rec\n",
    "\n",
    "def searchRange(nums:List[int], target:int)->List[int]:\n",
    "  left=binSearch(nums,target,len(nums),True)\n",
    "  right=binSearch(nums,target,len(nums),False)\n",
    "  return [left,right]\n",
    "  \n",
    "##Driver Code\n",
    "\n",
    "print(searchRange(textNum1,target1))\n",
    "print(searchRange(textNum2,target2))\n",
    "print(searchRange(textNum3,target3))\n",
    "print('Result')"
   ]
  },
  {
   "cell_type": "markdown",
   "metadata": {},
   "source": [
    "## Median Sorted Array\n",
    "This function will use binary search to get time complecity O(log)(m+n))"
   ]
  },
  {
   "cell_type": "code",
   "execution_count": 1,
   "metadata": {},
   "outputs": [
    {
     "name": "stdout",
     "output_type": "stream",
     "text": [
      "None\n",
      "3.0\n"
     ]
    }
   ],
   "source": [
    "from typing import List\n",
    "import math\n",
    "\n",
    "# Function to find Median Sorted Array\n",
    "# This function will use binary search to get time complecity O(log)(m+n))\n",
    "def findMedianSortedArrays(nums1: List[int], nums2: List[int]) -> float:\n",
    "  #We will try to make first array length smaller than second one\n",
    "  if(len(nums1))>(len(nums2)):\n",
    "    return findMedianSortedArrays(nums2,nums1)\n",
    "  x=len(nums1)\n",
    "  y=len(nums2)\n",
    "  \n",
    "  start,end=0,x;\n",
    "  while(start<=end):\n",
    "    positionX=(end+start)/2\n",
    "    positionY=(x+y+1)/2 - positionX\n",
    "    \n",
    "    #if positionX is 0 it means there is nothing on the left side. We can use -INFINITE for maxLeftX\n",
    "    #if positionX == length of the num1 input it means there is nothing on the right side. We can use +INFINITE for minRightX\n",
    "    maxLeftX=-math.inf if positionX==0 else nums1[int(positionX-1)]\n",
    "    minRightX=math.inf if positionX==x else nums1[int(positionX)]\n",
    "    \n",
    "    maxLeftY=-math.inf if positionY==0 else nums2[int(positionY-1)]\n",
    "    minRightY=math.inf if positionY==y else nums2[int(positionY)]\n",
    "    \n",
    "    if(maxLeftX<=minRightY & maxLeftY<=minRightX):\n",
    "      #We have the position int the right way\n",
    "      #If the combine length of array is even, we do median of MAX(left elements) and MIN(Right elements)\n",
    "      if((x+y)%2==0):\n",
    "        return format((max(maxLeftX,maxLeftY)+min(minRightX,minRightY))/2)\n",
    "      #Max on left for odd length of array\n",
    "      else:\n",
    "        return format((max(maxLeftX,maxLeftY)))\n",
    "    elif(maxLeftX>minRightY):\n",
    "      #If maxLeftX>minrightY, it means that X position is far from the right=> move left\n",
    "      end=positionX-1\n",
    "    else:\n",
    "      #Else X position is far from the left =? move right \n",
    "      start=positionX+1\n",
    "    \n",
    "    \n",
    "test1 = [1,3]\n",
    "test2 = [2] \n",
    "test3 = [1,2] \n",
    "test4 = [3,4]\n",
    "\n",
    "print(findMedianSortedArrays(test1,test2))\n",
    "print(findMedianSortedArrays(test3,test4))\n"
   ]
  },
  {
   "cell_type": "markdown",
   "metadata": {},
   "source": [
    "## Remove Nth Node From End of List \n",
    "Given the head of a linked list, remove the nth node from the end of the list and return its head. I just simply loop through my list with 2 Pointer, and use temp node to swap.\n"
   ]
  },
  {
   "cell_type": "code",
   "execution_count": 9,
   "metadata": {},
   "outputs": [
    {
     "data": {
      "text/plain": [
       "IPython.core.display.Image"
      ]
     },
     "metadata": {},
     "output_type": "display_data"
    }
   ],
   "source": [
    "from ast import Delete\n",
    "from asyncio.windows_events import NULL\n",
    "from typing import Optional\n",
    "# import image module\n",
    "from IPython.display import Image\n",
    "  \n",
    "# get the image\n",
    "Image(url=\"List.png\", width=300, height=300)\n",
    "\n",
    "\n",
    "display(Image)\n",
    "# Definition for singly-linked list.\n",
    "class ListNode:\n",
    "    def __init__(self, val=0, next=NULL):\n",
    "        self.values = val\n",
    "        self.next = next\n",
    "\n",
    "class Solution:\n",
    "    def removeNthFromEnd(self, head: Optional[ListNode], n: int) -> Optional[ListNode]:\n",
    "      if (head==NULL):\n",
    "        return NULL\n",
    "      firstPointer=head\n",
    "      secondPointer=head\n",
    "      for i in range(n):\n",
    "        firstPointer=firstPointer.next\n",
    "      if(firstPointer==NULL):\n",
    "        return head.next\n",
    "      while(firstPointer.next):\n",
    "        firstPointer=firstPointer.next\n",
    "        secondPointer=secondPointer.next\n",
    "      temp=ListNode()\n",
    "      temp=secondPointer.next\n",
    "      secondPointer.next=temp.next\n",
    "      del temp\n",
    "      return head\n",
    "    "
   ]
  }
 ],
 "metadata": {
  "kernelspec": {
   "display_name": "Python 3.10.6 64-bit",
   "language": "python",
   "name": "python3"
  },
  "language_info": {
   "codemirror_mode": {
    "name": "ipython",
    "version": 3
   },
   "file_extension": ".py",
   "mimetype": "text/x-python",
   "name": "python",
   "nbconvert_exporter": "python",
   "pygments_lexer": "ipython3",
   "version": "3.10.6"
  },
  "orig_nbformat": 4,
  "vscode": {
   "interpreter": {
    "hash": "6bba7ad6fc9afbb17a33197c0438130850015aba75982ac77e342f4df6c21110"
   }
  }
 },
 "nbformat": 4,
 "nbformat_minor": 2
}
